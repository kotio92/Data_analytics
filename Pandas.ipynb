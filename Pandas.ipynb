{
 "cells": [
  {
   "cell_type": "markdown",
   "metadata": {},
   "source": [
    "## Pandas"
   ]
  },
  {
   "cell_type": "markdown",
   "metadata": {},
   "source": [
    "Pandas è una libreria scritta per Python per la manipolazione e l'analisi dei dati. In particolare, offre strutture dati e operazioni per manipolare tabelle numeriche e serie temporali."
   ]
  },
  {
   "cell_type": "code",
   "execution_count": 1,
   "metadata": {},
   "outputs": [],
   "source": [
    "import pandas as pd"
   ]
  },
  {
   "cell_type": "markdown",
   "metadata": {},
   "source": [
    "### Series"
   ]
  },
  {
   "cell_type": "markdown",
   "metadata": {},
   "source": [
    "Una Series è un array unidimensionale che può contenere più tipi di dato."
   ]
  },
  {
   "cell_type": "markdown",
   "metadata": {},
   "source": [
    "Le etichette di riga in una Series sono gli '**indici**'."
   ]
  },
  {
   "cell_type": "markdown",
   "metadata": {},
   "source": [
    "Una Series può essere ottenuto a partire da Tuple, Liste e Dizionari."
   ]
  },
  {
   "cell_type": "markdown",
   "metadata": {},
   "source": [
    "#### Conversione di Tupla in Series"
   ]
  },
  {
   "cell_type": "code",
   "execution_count": 2,
   "metadata": {},
   "outputs": [
    {
     "name": "stdout",
     "output_type": "stream",
     "text": [
      "<class 'pandas.core.series.Series'>\n",
      "0       kotio\n",
      "1    giannino\n",
      "2          23\n",
      "3       88.12\n",
      "dtype: object\n",
      "(4,)\n",
      "4\n"
     ]
    }
   ],
   "source": [
    "tupla = ('kotio', 'giannino', 23, 88.12)\n",
    "\n",
    "s = pd.Series(tupla)\n",
    "print(type(s))\n",
    "print(s)\n",
    "print(s.shape)\n",
    "print(len(s))\n",
    "\n",
    "# Si vede che di default gli indici vengono inizializzati a numeri naturali a partire dallo 0"
   ]
  },
  {
   "cell_type": "markdown",
   "metadata": {},
   "source": [
    "#### Conversione di Dizionario in Series"
   ]
  },
  {
   "cell_type": "code",
   "execution_count": 3,
   "metadata": {},
   "outputs": [
    {
     "name": "stdout",
     "output_type": "stream",
     "text": [
      "<class 'pandas.core.series.Series'>\n",
      "name       Enrico\n",
      "surname    Marino\n",
      "age            27\n",
      "dtype: object\n"
     ]
    }
   ],
   "source": [
    "diz = {'name': 'Enrico', 'surname':'Marino', 'age': 27}\n",
    "s2 = pd.Series(diz)\n",
    "\n",
    "print(type(s2))\n",
    "print(s2)\n",
    "\n",
    "# Questa volta gli indici vengono inizializzati con le chiavi del dizionario"
   ]
  },
  {
   "cell_type": "markdown",
   "metadata": {},
   "source": [
    "#### Conversione di Lista in Series"
   ]
  },
  {
   "cell_type": "code",
   "execution_count": 4,
   "metadata": {},
   "outputs": [
    {
     "name": "stdout",
     "output_type": "stream",
     "text": [
      "<class 'pandas.core.series.Series'>\n",
      "0       34\n",
      "1     jtrr\n",
      "2    22.12\n",
      "dtype: object\n"
     ]
    }
   ],
   "source": [
    "lista = [34, 'jtrr', 22.12]\n",
    "s3 = pd.Series(lista)\n",
    "\n",
    "print(type(s3))\n",
    "print(s3)\n",
    "\n",
    "# Gli indici vengono inizializzati a numeri naturali a partire dallo 0"
   ]
  },
  {
   "cell_type": "markdown",
   "metadata": {},
   "source": [
    "### Accesso agli elementi della Series"
   ]
  },
  {
   "cell_type": "markdown",
   "metadata": {},
   "source": [
    "Si può accedere a un elemento di una Series andando a indicare il suo indice"
   ]
  },
  {
   "cell_type": "code",
   "execution_count": 5,
   "metadata": {},
   "outputs": [
    {
     "name": "stdout",
     "output_type": "stream",
     "text": [
      "0      34\n",
      "1    jtrr\n",
      "dtype: object\n",
      "name       Enrico\n",
      "surname    Marino\n",
      "dtype: object\n",
      "Marino\n",
      "0       kotio\n",
      "1    giannino\n",
      "2          23\n",
      "3       88.12\n",
      "dtype: object\n"
     ]
    }
   ],
   "source": [
    "print(s3[0:2])              # lista\n",
    "\n",
    "                            # nel caso dei dizionari possiamo usare:\n",
    "print(s2[0:2])              # indice numerico\n",
    "print(s2['surname'])        # indice corrispondente alla chiave del dizionario (perchè durante questo tipo di conversione\n",
    "                            # gli indici della Series vengono inizializzati alle chiavi del dizionario)\n",
    "\n",
    "print(s[:])                 # tupla"
   ]
  },
  {
   "cell_type": "markdown",
   "metadata": {},
   "source": [
    "E' possibile anche utilizzare una doppia parentesi quadra per indicare uno o più indici (ma non l'operatore porzione)."
   ]
  },
  {
   "cell_type": "code",
   "execution_count": 6,
   "metadata": {},
   "outputs": [
    {
     "name": "stdout",
     "output_type": "stream",
     "text": [
      "0      34\n",
      "1    jtrr\n",
      "dtype: object\n",
      "name       Enrico\n",
      "surname    Marino\n",
      "dtype: object\n",
      "0       kotio\n",
      "1    giannino\n",
      "2          23\n",
      "dtype: object\n"
     ]
    }
   ],
   "source": [
    "print(s3[[0,1]])\n",
    "print(s2[['name','surname']])\n",
    "print(s[[0,1,2]])"
   ]
  },
  {
   "cell_type": "markdown",
   "metadata": {},
   "source": [
    "## Dataframe"
   ]
  },
  {
   "cell_type": "markdown",
   "metadata": {},
   "source": [
    "I Dataframe sono array bidimensionali, motivo per cui hanno 2 indici: **column-index** e **row-index**."
   ]
  },
  {
   "cell_type": "markdown",
   "metadata": {},
   "source": [
    "### Creazione di un Dataframe da Dizionario"
   ]
  },
  {
   "cell_type": "code",
   "execution_count": 7,
   "metadata": {},
   "outputs": [
    {
     "name": "stdout",
     "output_type": "stream",
     "text": [
      "<class 'pandas.core.frame.DataFrame'>\n",
      "(3, 3)\n",
      "     nome    cognome  eta\n",
      "0   Kotio     Marino   27\n",
      "1  Giulio  Andreotti   87\n",
      "2  Andrea    Faringe   12\n"
     ]
    }
   ],
   "source": [
    "diz = {'nome':['Kotio','Giulio','Andrea'], 'cognome':['Marino','Andreotti','Faringe'], 'eta' : [27,87,12]}\n",
    "\n",
    "# creo dataframe da dizionario\n",
    "df = pd.DataFrame(diz)\n",
    "print(type(df))\n",
    "print(df.shape)\n",
    "print(df)"
   ]
  },
  {
   "cell_type": "markdown",
   "metadata": {},
   "source": [
    "### Accesso ai dati di Dataframe"
   ]
  },
  {
   "cell_type": "markdown",
   "metadata": {},
   "source": [
    "#### Accesso ai dati tramite column-index"
   ]
  },
  {
   "cell_type": "code",
   "execution_count": 8,
   "metadata": {},
   "outputs": [
    {
     "name": "stdout",
     "output_type": "stream",
     "text": [
      "0     Kotio\n",
      "1    Giulio\n",
      "2    Andrea\n",
      "Name: nome, dtype: object\n",
      "<class 'pandas.core.series.Series'>\n"
     ]
    }
   ],
   "source": [
    "print(df['nome'])\n",
    "print(type(df['nome']))  # è una Series"
   ]
  },
  {
   "cell_type": "markdown",
   "metadata": {},
   "source": [
    "#### Accesso ai dati tramite row-index"
   ]
  },
  {
   "cell_type": "code",
   "execution_count": 9,
   "metadata": {},
   "outputs": [
    {
     "name": "stdout",
     "output_type": "stream",
     "text": [
      "nome        Kotio\n",
      "cognome    Marino\n",
      "eta            27\n",
      "Name: 0, dtype: object\n",
      "<class 'pandas.core.series.Series'>\n"
     ]
    }
   ],
   "source": [
    "print(df.loc[0])\n",
    "print(type(df.loc[0]))   # è una Series"
   ]
  },
  {
   "cell_type": "markdown",
   "metadata": {},
   "source": [
    "#### Accesso a una specifica cella del Dataframe"
   ]
  },
  {
   "cell_type": "code",
   "execution_count": 10,
   "metadata": {},
   "outputs": [
    {
     "name": "stdout",
     "output_type": "stream",
     "text": [
      "Marino\n"
     ]
    }
   ],
   "source": [
    "print(df.loc[0,'cognome'])    # specifico row-index, column-index"
   ]
  },
  {
   "cell_type": "markdown",
   "metadata": {},
   "source": [
    "#### Accesso a tutti i dati di una colonna"
   ]
  },
  {
   "cell_type": "code",
   "execution_count": 11,
   "metadata": {},
   "outputs": [
    {
     "name": "stdout",
     "output_type": "stream",
     "text": [
      "0     Kotio\n",
      "1    Giulio\n",
      "2    Andrea\n",
      "Name: nome, dtype: object\n"
     ]
    }
   ],
   "source": [
    "print(df.loc[:,'nome'])"
   ]
  },
  {
   "cell_type": "markdown",
   "metadata": {},
   "source": [
    "#### Accesso a tutti i dati di una riga"
   ]
  },
  {
   "cell_type": "code",
   "execution_count": 12,
   "metadata": {},
   "outputs": [
    {
     "name": "stdout",
     "output_type": "stream",
     "text": [
      "nome          Giulio\n",
      "cognome    Andreotti\n",
      "eta               87\n",
      "Name: 1, dtype: object\n"
     ]
    }
   ],
   "source": [
    "print(df.loc[1,:])"
   ]
  },
  {
   "cell_type": "markdown",
   "metadata": {},
   "source": [
    "### Modifica di un Dataframe"
   ]
  },
  {
   "cell_type": "markdown",
   "metadata": {},
   "source": [
    "#### Aggiunta di una nuova colonna"
   ]
  },
  {
   "cell_type": "code",
   "execution_count": 13,
   "metadata": {},
   "outputs": [
    {
     "name": "stdout",
     "output_type": "stream",
     "text": [
      "     nome    cognome  eta   nazione\n",
      "0   Kotio     Marino   27    Italia\n",
      "1  Giulio  Andreotti   87    Grecia\n",
      "2  Andrea    Faringe   12  Germania\n"
     ]
    }
   ],
   "source": [
    "df['nazione'] = ['Italia','Grecia','Germania']\n",
    "\n",
    "print(df)"
   ]
  },
  {
   "cell_type": "markdown",
   "metadata": {},
   "source": [
    "#### Aggiunta di una nuova riga"
   ]
  },
  {
   "cell_type": "code",
   "execution_count": 14,
   "metadata": {},
   "outputs": [
    {
     "name": "stdout",
     "output_type": "stream",
     "text": [
      "     nome    cognome  eta   nazione\n",
      "0   Kotio     Marino   27    Italia\n",
      "1  Giulio  Andreotti   87    Grecia\n",
      "2  Andrea    Faringe   12  Germania\n",
      "3   Panke     Marino   28    Spagna\n"
     ]
    }
   ],
   "source": [
    "new_row = {'nome':'Panke','cognome':'Marino','eta':28,'nazione':'Spagna'}\n",
    "df = df.append(new_row, ignore_index=True)\n",
    "print(df)"
   ]
  },
  {
   "cell_type": "markdown",
   "metadata": {},
   "source": [
    "#### Modifica degli indici"
   ]
  },
  {
   "cell_type": "code",
   "execution_count": 15,
   "metadata": {},
   "outputs": [
    {
     "name": "stdout",
     "output_type": "stream",
     "text": [
      "           nome    cognome  eta   nazione\n",
      "uno       Kotio     Marino   27    Italia\n",
      "due      Giulio  Andreotti   87    Grecia\n",
      "tre      Andrea    Faringe   12  Germania\n",
      "quattro   Panke     Marino   28    Spagna\n"
     ]
    }
   ],
   "source": [
    "df.index = ['uno','due','tre','quattro']\n",
    "\n",
    "# con questo metodo possiamo riscrivere gli indici a nostro piacimento\n",
    "print(df)"
   ]
  },
  {
   "cell_type": "markdown",
   "metadata": {},
   "source": [
    "Posso anche scegliere una colonna da settare come indice."
   ]
  },
  {
   "cell_type": "code",
   "execution_count": 16,
   "metadata": {},
   "outputs": [
    {
     "name": "stdout",
     "output_type": "stream",
     "text": [
      "       nome    cognome   nazione\n",
      "eta                             \n",
      "27    Kotio     Marino    Italia\n",
      "87   Giulio  Andreotti    Grecia\n",
      "12   Andrea    Faringe  Germania\n",
      "28    Panke     Marino    Spagna\n"
     ]
    }
   ],
   "source": [
    "df = df.set_index('eta')\n",
    "print(df)"
   ]
  },
  {
   "cell_type": "markdown",
   "metadata": {},
   "source": [
    "### Eliminazione di righe e colonne"
   ]
  },
  {
   "cell_type": "code",
   "execution_count": 17,
   "metadata": {},
   "outputs": [
    {
     "name": "stdout",
     "output_type": "stream",
     "text": [
      "       nome    cognome   nazione\n",
      "eta                             \n",
      "27    Kotio     Marino    Italia\n",
      "87   Giulio  Andreotti    Grecia\n",
      "12   Andrea    Faringe  Germania\n",
      "28    Panke     Marino    Spagna\n"
     ]
    }
   ],
   "source": [
    "print(df)"
   ]
  },
  {
   "cell_type": "markdown",
   "metadata": {},
   "source": [
    "#### Eliminazione di una colonna"
   ]
  },
  {
   "cell_type": "code",
   "execution_count": 18,
   "metadata": {},
   "outputs": [
    {
     "name": "stdout",
     "output_type": "stream",
     "text": [
      "       nome    cognome\n",
      "eta                   \n",
      "27    Kotio     Marino\n",
      "87   Giulio  Andreotti\n",
      "12   Andrea    Faringe\n",
      "28    Panke     Marino\n"
     ]
    }
   ],
   "source": [
    "del df['nazione']\n",
    "print(df)"
   ]
  },
  {
   "cell_type": "code",
   "execution_count": 19,
   "metadata": {},
   "outputs": [
    {
     "name": "stdout",
     "output_type": "stream",
     "text": [
      "       nome    cognome\n",
      "eta                   \n",
      "27    Kotio     Marino\n",
      "87   Giulio  Andreotti\n",
      "12   Andrea    Faringe\n",
      "28    Panke     Marino\n"
     ]
    }
   ],
   "source": [
    "# oppure in alternativa\n",
    "#df = df.drop('eta', axis=1)    # axis=1 indica le colonne\n",
    "print(df)"
   ]
  },
  {
   "cell_type": "markdown",
   "metadata": {},
   "source": [
    "#### Eliminazione di una riga"
   ]
  },
  {
   "cell_type": "code",
   "execution_count": 20,
   "metadata": {},
   "outputs": [
    {
     "name": "stdout",
     "output_type": "stream",
     "text": [
      "       nome  cognome\n",
      "eta                 \n",
      "27    Kotio   Marino\n",
      "12   Andrea  Faringe\n",
      "28    Panke   Marino\n"
     ]
    }
   ],
   "source": [
    "df = df.drop(87, axis = 0) # axis=0 indica le righe\n",
    "print(df)"
   ]
  }
 ],
 "metadata": {
  "kernelspec": {
   "display_name": "Python 3",
   "language": "python",
   "name": "python3"
  },
  "language_info": {
   "codemirror_mode": {
    "name": "ipython",
    "version": 3
   },
   "file_extension": ".py",
   "mimetype": "text/x-python",
   "name": "python",
   "nbconvert_exporter": "python",
   "pygments_lexer": "ipython3",
   "version": "3.7.6"
  }
 },
 "nbformat": 4,
 "nbformat_minor": 2
}
