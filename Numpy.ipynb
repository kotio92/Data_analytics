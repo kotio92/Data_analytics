{
 "cells": [
  {
   "cell_type": "markdown",
   "metadata": {},
   "source": [
    "## Numpy Tutorial"
   ]
  },
  {
   "cell_type": "markdown",
   "metadata": {},
   "source": [
    "Numpy è un modulo Python che viene utilizzato per eseguire vari calcoli numerici in Python. I calcoli effettuati utilizzando gli array Numpy sono più veloci dei normali array Python. "
   ]
  },
  {
   "cell_type": "markdown",
   "metadata": {},
   "source": [
    "Inoltre, il modulo Pandas è costruito su array numpy, quindi una migliore comprensione di Numpy può aiutarci a \n",
    "utilizzare Pandas in modo più efficace."
   ]
  },
  {
   "cell_type": "code",
   "execution_count": 1,
   "metadata": {},
   "outputs": [],
   "source": [
    "import numpy as np"
   ]
  },
  {
   "cell_type": "markdown",
   "metadata": {},
   "source": [
    "### Definizione di array"
   ]
  },
  {
   "cell_type": "markdown",
   "metadata": {},
   "source": [
    "Definizone di array unidimensionale."
   ]
  },
  {
   "cell_type": "code",
   "execution_count": 2,
   "metadata": {},
   "outputs": [
    {
     "name": "stdout",
     "output_type": "stream",
     "text": [
      "<class 'numpy.ndarray'>\n",
      "['abc' '34' '12.09']\n"
     ]
    }
   ],
   "source": [
    "arr1 = np.array(['abc',34,12.09])   # array() è una funzione della libreria numpy che serve a creare un array\n",
    "print(type(arr1))\n",
    "print(arr1)"
   ]
  },
  {
   "cell_type": "markdown",
   "metadata": {},
   "source": [
    "Definizone di array multidimensionale."
   ]
  },
  {
   "cell_type": "code",
   "execution_count": 3,
   "metadata": {},
   "outputs": [
    {
     "name": "stdout",
     "output_type": "stream",
     "text": [
      "<class 'numpy.ndarray'>\n",
      "[[1 2 3]\n",
      " [4 5 6]\n",
      " [7 8 9]]\n"
     ]
    }
   ],
   "source": [
    "arr2 = np.array([[1,2,3],[4,5,6],[7,8,9]])\n",
    "print(type(arr2))\n",
    "print(arr2)"
   ]
  },
  {
   "cell_type": "markdown",
   "metadata": {},
   "source": [
    "### Accesso ai dati"
   ]
  },
  {
   "cell_type": "code",
   "execution_count": 4,
   "metadata": {},
   "outputs": [
    {
     "name": "stdout",
     "output_type": "stream",
     "text": [
      "(3,)\n",
      "(3, 3)\n"
     ]
    }
   ],
   "source": [
    "# Shape: dimensioni\n",
    "\n",
    "print(arr1.shape)\n",
    "print(arr2.shape)"
   ]
  },
  {
   "cell_type": "code",
   "execution_count": 5,
   "metadata": {},
   "outputs": [
    {
     "name": "stdout",
     "output_type": "stream",
     "text": [
      "<U5\n",
      "int32\n"
     ]
    }
   ],
   "source": [
    "# Data type: mi dice il tipo di dato contenuto nell'array\n",
    "\n",
    "print(arr1.dtype)\n",
    "print(arr2.dtype)"
   ]
  },
  {
   "cell_type": "code",
   "execution_count": 6,
   "metadata": {},
   "outputs": [
    {
     "name": "stdout",
     "output_type": "stream",
     "text": [
      "34\n",
      "6\n"
     ]
    }
   ],
   "source": [
    "# Accesso ai dati\n",
    "\n",
    "print(arr1[1])\n",
    "\n",
    "print(arr2[1][2])"
   ]
  },
  {
   "cell_type": "markdown",
   "metadata": {},
   "source": [
    "### Array di zeri"
   ]
  },
  {
   "cell_type": "code",
   "execution_count": 7,
   "metadata": {},
   "outputs": [
    {
     "data": {
      "text/plain": [
       "array([[0, 0, 0],\n",
       "       [0, 0, 0],\n",
       "       [0, 0, 0]])"
      ]
     },
     "execution_count": 7,
     "metadata": {},
     "output_type": "execute_result"
    }
   ],
   "source": [
    "# Creiamo una matrice di zeri 3x3\n",
    "\n",
    "arr_zeros = np.zeros((3,3), dtype=int)\n",
    "arr_zeros"
   ]
  },
  {
   "cell_type": "markdown",
   "metadata": {},
   "source": [
    "### Array di uni"
   ]
  },
  {
   "cell_type": "code",
   "execution_count": 8,
   "metadata": {},
   "outputs": [
    {
     "data": {
      "text/plain": [
       "array([[1, 1, 1, 1],\n",
       "       [1, 1, 1, 1]])"
      ]
     },
     "execution_count": 8,
     "metadata": {},
     "output_type": "execute_result"
    }
   ],
   "source": [
    "# Creiamo una matrice di uni 2x4\n",
    "\n",
    "arr_ones = np.ones((2,4), dtype=int)\n",
    "arr_ones"
   ]
  },
  {
   "cell_type": "markdown",
   "metadata": {},
   "source": [
    "### Matrice diagonale"
   ]
  },
  {
   "cell_type": "code",
   "execution_count": 9,
   "metadata": {},
   "outputs": [
    {
     "name": "stdout",
     "output_type": "stream",
     "text": [
      "[[1 0 0 0 0]\n",
      " [0 1 0 0 0]\n",
      " [0 0 1 0 0]\n",
      " [0 0 0 1 0]\n",
      " [0 0 0 0 1]]\n"
     ]
    }
   ],
   "source": [
    "# Creiamo una matrice diagonale\n",
    "\n",
    "matr_diagonale = np.eye(5, dtype=int)\n",
    "print(matr_diagonale)"
   ]
  },
  {
   "cell_type": "markdown",
   "metadata": {},
   "source": [
    "### Operazioni tra matrici e scalari"
   ]
  },
  {
   "cell_type": "code",
   "execution_count": 10,
   "metadata": {},
   "outputs": [
    {
     "data": {
      "text/plain": [
       "array([[4, 3, 3, 3, 3],\n",
       "       [3, 4, 3, 3, 3],\n",
       "       [3, 3, 4, 3, 3],\n",
       "       [3, 3, 3, 4, 3],\n",
       "       [3, 3, 3, 3, 4]])"
      ]
     },
     "execution_count": 10,
     "metadata": {},
     "output_type": "execute_result"
    }
   ],
   "source": [
    "# Addizione\n",
    "\n",
    "matr_diagonale + 3"
   ]
  },
  {
   "cell_type": "code",
   "execution_count": 11,
   "metadata": {},
   "outputs": [
    {
     "data": {
      "text/plain": [
       "array([[2, 0, 0, 0, 0],\n",
       "       [0, 2, 0, 0, 0],\n",
       "       [0, 0, 2, 0, 0],\n",
       "       [0, 0, 0, 2, 0],\n",
       "       [0, 0, 0, 0, 2]])"
      ]
     },
     "execution_count": 11,
     "metadata": {},
     "output_type": "execute_result"
    }
   ],
   "source": [
    "# Moltiplicazione\n",
    "\n",
    "matr_diagonale*2"
   ]
  },
  {
   "cell_type": "markdown",
   "metadata": {},
   "source": [
    "### Cambiare il tipo del dato"
   ]
  },
  {
   "cell_type": "markdown",
   "metadata": {},
   "source": [
    "Per svolgere questa operazione viene utilizzato il metodo *astype*."
   ]
  },
  {
   "cell_type": "code",
   "execution_count": 12,
   "metadata": {},
   "outputs": [
    {
     "data": {
      "text/plain": [
       "array([['1', '0', '0', '0', '0'],\n",
       "       ['0', '1', '0', '0', '0'],\n",
       "       ['0', '0', '1', '0', '0'],\n",
       "       ['0', '0', '0', '1', '0'],\n",
       "       ['0', '0', '0', '0', '1']], dtype='<U11')"
      ]
     },
     "execution_count": 12,
     "metadata": {},
     "output_type": "execute_result"
    }
   ],
   "source": [
    "matr_diagonale.astype(np.str)            # conversione in Stringa"
   ]
  },
  {
   "cell_type": "code",
   "execution_count": 13,
   "metadata": {},
   "outputs": [
    {
     "data": {
      "text/plain": [
       "array([[1., 0., 0., 0., 0.],\n",
       "       [0., 1., 0., 0., 0.],\n",
       "       [0., 0., 1., 0., 0.],\n",
       "       [0., 0., 0., 1., 0.],\n",
       "       [0., 0., 0., 0., 1.]], dtype=float32)"
      ]
     },
     "execution_count": 13,
     "metadata": {},
     "output_type": "execute_result"
    }
   ],
   "source": [
    "matr_diagonale.astype(np.float32)        # conversione in decimale"
   ]
  },
  {
   "cell_type": "markdown",
   "metadata": {},
   "source": [
    "## Boolean Indexing"
   ]
  },
  {
   "cell_type": "code",
   "execution_count": 14,
   "metadata": {},
   "outputs": [
    {
     "name": "stdout",
     "output_type": "stream",
     "text": [
      "[-1.18190926  0.72753608  1.76199586  0.41126991 -0.33105995]\n"
     ]
    }
   ],
   "source": [
    "# Generazione di array unidimensionale casuale\n",
    "\n",
    "array_cas = np.random.randn(5)                     # random è un sottomodulo di numpy. In random c'è la funz randn() che genera\n",
    "                                                   # array di numeri estratti randomicamente da una distribuzione noramale\n",
    "print(array_cas)                                   # standardizzata"
   ]
  },
  {
   "cell_type": "code",
   "execution_count": 15,
   "metadata": {},
   "outputs": [
    {
     "name": "stdout",
     "output_type": "stream",
     "text": [
      "[[ 0.82667843 -0.67433289 -0.64383189  1.43158618 -0.39874236]\n",
      " [-0.12369503 -0.56665184 -0.00688937  0.02894749  1.32332573]\n",
      " [-1.14358972  0.36688434 -0.14934124  1.28597753  0.66549769]\n",
      " [ 0.63829815 -0.56364556 -0.01890466 -0.56308697  1.61459564]\n",
      " [ 0.66602755 -0.07004134 -0.71840912 -0.68852232  2.24960276]]\n",
      "['a' 'b' 'c' 'a' 'e']\n",
      "[ True False False  True False]\n"
     ]
    },
    {
     "data": {
      "text/plain": [
       "array([[ 0.82667843, -0.67433289, -0.64383189,  1.43158618, -0.39874236],\n",
       "       [ 0.63829815, -0.56364556, -0.01890466, -0.56308697,  1.61459564]])"
      ]
     },
     "execution_count": 15,
     "metadata": {},
     "output_type": "execute_result"
    }
   ],
   "source": [
    "# Genero un array bidimensionale di numeri random\n",
    "\n",
    "matrix_cas = np.random.randn(5,5)\n",
    "print(matrix_cas)\n",
    "\n",
    "# Genero un array di indice per tale matrice\n",
    "\n",
    "indici = np.array(['a','b','c','a','e'])\n",
    "print(indici)\n",
    "\n",
    "print(indici=='a')   # condizione\n",
    "\n",
    "# Ora esprimo la condizione come filtro sulle righe dell'array (dato che si tratta di indice)\n",
    "\n",
    "matrix_cas[indici=='a']   # restituisce solo le righe in corrispondenza delle quali il filtro sull'indice risulta True"
   ]
  },
  {
   "cell_type": "code",
   "execution_count": 16,
   "metadata": {},
   "outputs": [
    {
     "name": "stdout",
     "output_type": "stream",
     "text": [
      "[[-0.12369503 -0.56665184 -0.00688937  0.02894749  1.32332573]\n",
      " [-1.14358972  0.36688434 -0.14934124  1.28597753  0.66549769]\n",
      " [ 0.66602755 -0.07004134 -0.71840912 -0.68852232  2.24960276]]\n",
      "\n",
      "[[-0.12369503 -0.56665184 -0.00688937  0.02894749  1.32332573]\n",
      " [-1.14358972  0.36688434 -0.14934124  1.28597753  0.66549769]]\n",
      "\n",
      "[ 0.82667843 -0.67433289 -0.64383189 -0.39874236 -0.12369503 -0.56665184\n",
      " -0.00688937  0.02894749 -1.14358972  0.36688434 -0.14934124  0.66549769\n",
      "  0.63829815 -0.56364556 -0.01890466 -0.56308697  0.66602755 -0.07004134\n",
      " -0.71840912 -0.68852232]\n",
      "\n"
     ]
    }
   ],
   "source": [
    "# Analogamente\n",
    "\n",
    "print(matrix_cas[indici!='a'])\n",
    "print()\n",
    "\n",
    "# oppure\n",
    "\n",
    "print(matrix_cas[(indici=='b')|(indici=='c')])\n",
    "print()\n",
    "\n",
    "# oppure\n",
    "\n",
    "print(matrix_cas[(matrix_cas<1)])    # restituisce tutti gli elementi inferiri a 1\n",
    "print()"
   ]
  },
  {
   "cell_type": "markdown",
   "metadata": {},
   "source": []
  },
  {
   "cell_type": "markdown",
   "metadata": {},
   "source": [
    "### Modifica delle dimensioni di un array"
   ]
  },
  {
   "cell_type": "code",
   "execution_count": 17,
   "metadata": {},
   "outputs": [
    {
     "name": "stdout",
     "output_type": "stream",
     "text": [
      "[ 0  1  2  3  4  5  6  7  8  9 10 11 12 13 14 15]\n",
      "<class 'numpy.ndarray'>\n"
     ]
    }
   ],
   "source": [
    "# Genero un array unidimensionale di numeri\n",
    "\n",
    "lista = np.arange(0,16)\n",
    "print(lista)\n",
    "print(type(lista))"
   ]
  },
  {
   "cell_type": "code",
   "execution_count": 18,
   "metadata": {},
   "outputs": [
    {
     "data": {
      "text/plain": [
       "array([[ 0,  1,  2,  3],\n",
       "       [ 4,  5,  6,  7],\n",
       "       [ 8,  9, 10, 11],\n",
       "       [12, 13, 14, 15]])"
      ]
     },
     "execution_count": 18,
     "metadata": {},
     "output_type": "execute_result"
    }
   ],
   "source": [
    "# Modifico la sua shape tramite il metodo reshape() della classe ndarray\n",
    "\n",
    "lista_modified = lista.reshape(4,4)\n",
    "lista_modified"
   ]
  },
  {
   "cell_type": "code",
   "execution_count": 19,
   "metadata": {},
   "outputs": [
    {
     "data": {
      "text/plain": [
       "9"
      ]
     },
     "execution_count": 19,
     "metadata": {},
     "output_type": "execute_result"
    }
   ],
   "source": [
    "# Selezione di elementi della matrice\n",
    "\n",
    "lista_modified[2][1]"
   ]
  },
  {
   "cell_type": "code",
   "execution_count": 20,
   "metadata": {},
   "outputs": [
    {
     "data": {
      "text/plain": [
       "array([[ 0,  4,  8, 12],\n",
       "       [ 1,  5,  9, 13],\n",
       "       [ 2,  6, 10, 14],\n",
       "       [ 3,  7, 11, 15]])"
      ]
     },
     "execution_count": 20,
     "metadata": {},
     "output_type": "execute_result"
    }
   ],
   "source": [
    "# Genero la sua trasposta\n",
    "\n",
    "lista_trasposta = lista_modified.T\n",
    "lista_trasposta"
   ]
  }
 ],
 "metadata": {
  "kernelspec": {
   "display_name": "Python 3",
   "language": "python",
   "name": "python3"
  },
  "language_info": {
   "codemirror_mode": {
    "name": "ipython",
    "version": 3
   },
   "file_extension": ".py",
   "mimetype": "text/x-python",
   "name": "python",
   "nbconvert_exporter": "python",
   "pygments_lexer": "ipython3",
   "version": "3.7.6"
  }
 },
 "nbformat": 4,
 "nbformat_minor": 2
}
